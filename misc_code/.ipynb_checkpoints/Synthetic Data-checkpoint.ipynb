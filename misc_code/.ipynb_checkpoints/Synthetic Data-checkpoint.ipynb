{
 "cells": [
  {
   "cell_type": "code",
   "execution_count": 1,
   "metadata": {},
   "outputs": [],
   "source": [
    "import numpy as np\n",
    "# np.random.seed(42)"
   ]
  },
  {
   "cell_type": "code",
   "execution_count": 2,
   "metadata": {},
   "outputs": [
    {
     "data": {
      "text/plain": [
       "array([4, 0, 5, 2, 8, 4, 3, 1, 8, 8])"
      ]
     },
     "execution_count": 2,
     "metadata": {},
     "output_type": "execute_result"
    }
   ],
   "source": [
    "np.random.randint(0,9,10)"
   ]
  },
  {
   "cell_type": "code",
   "execution_count": 3,
   "metadata": {},
   "outputs": [],
   "source": [
    "data = np.zeros([10000, 10])"
   ]
  },
  {
   "cell_type": "code",
   "execution_count": 4,
   "metadata": {},
   "outputs": [],
   "source": [
    "for i in range(data.shape[0]):\n",
    "    data[i,:] = np.random.randint(0,10,10)"
   ]
  },
  {
   "cell_type": "code",
   "execution_count": 5,
   "metadata": {},
   "outputs": [
    {
     "data": {
      "text/plain": [
       "array([[3., 9., 5., 6., 8., 8., 3., 0., 0., 8.],\n",
       "       [2., 4., 7., 1., 7., 5., 3., 8., 5., 1.],\n",
       "       [7., 4., 7., 6., 9., 0., 3., 1., 5., 3.],\n",
       "       [8., 1., 0., 1., 8., 3., 0., 4., 7., 6.],\n",
       "       [3., 9., 1., 4., 6., 0., 3., 6., 7., 6.],\n",
       "       [4., 2., 2., 4., 3., 2., 1., 4., 6., 8.],\n",
       "       [9., 1., 2., 0., 5., 9., 1., 7., 9., 1.],\n",
       "       [8., 8., 4., 9., 4., 0., 0., 5., 4., 7.],\n",
       "       [9., 9., 0., 7., 2., 8., 2., 5., 5., 2.],\n",
       "       [7., 6., 9., 4., 2., 8., 0., 2., 5., 6.],\n",
       "       [0., 6., 3., 3., 7., 0., 7., 6., 4., 1.],\n",
       "       [6., 5., 4., 1., 5., 3., 3., 6., 9., 0.],\n",
       "       [3., 8., 9., 9., 9., 6., 9., 2., 4., 8.],\n",
       "       [8., 0., 6., 4., 0., 8., 9., 4., 5., 4.],\n",
       "       [1., 0., 6., 4., 1., 9., 1., 5., 9., 6.],\n",
       "       [0., 4., 0., 9., 9., 4., 4., 7., 8., 3.],\n",
       "       [9., 2., 0., 9., 8., 2., 6., 4., 9., 5.],\n",
       "       [1., 7., 5., 1., 7., 9., 9., 9., 4., 4.],\n",
       "       [8., 1., 9., 0., 5., 9., 4., 4., 6., 8.],\n",
       "       [7., 2., 7., 5., 2., 7., 0., 5., 4., 2.],\n",
       "       [4., 6., 9., 1., 6., 5., 5., 5., 5., 3.],\n",
       "       [4., 2., 3., 6., 6., 7., 4., 8., 3., 5.],\n",
       "       [8., 9., 6., 5., 7., 2., 1., 0., 4., 5.],\n",
       "       [5., 1., 8., 2., 0., 0., 3., 6., 3., 5.],\n",
       "       [9., 0., 5., 4., 3., 7., 6., 6., 2., 6.],\n",
       "       [6., 4., 0., 1., 7., 5., 9., 7., 9., 0.],\n",
       "       [8., 9., 2., 0., 9., 9., 9., 7., 0., 9.],\n",
       "       [8., 1., 2., 7., 9., 1., 5., 9., 7., 6.],\n",
       "       [0., 5., 9., 6., 8., 9., 0., 5., 1., 8.],\n",
       "       [7., 5., 6., 0., 6., 3., 5., 1., 3., 5.],\n",
       "       [0., 2., 8., 3., 6., 7., 0., 7., 2., 9.],\n",
       "       [7., 5., 5., 3., 9., 5., 5., 4., 2., 4.],\n",
       "       [5., 2., 7., 2., 2., 2., 0., 5., 4., 2.],\n",
       "       [5., 4., 9., 1., 3., 2., 2., 8., 2., 0.],\n",
       "       [1., 6., 1., 4., 2., 1., 9., 9., 4., 5.],\n",
       "       [4., 7., 8., 5., 0., 7., 9., 3., 0., 4.],\n",
       "       [2., 6., 7., 2., 8., 1., 2., 0., 6., 8.],\n",
       "       [3., 6., 0., 5., 1., 6., 0., 6., 9., 6.],\n",
       "       [9., 9., 8., 1., 1., 7., 9., 7., 7., 1.],\n",
       "       [1., 9., 4., 8., 0., 0., 0., 4., 6., 3.],\n",
       "       [0., 3., 2., 9., 1., 2., 6., 8., 6., 8.],\n",
       "       [1., 3., 2., 8., 7., 7., 0., 0., 4., 3.],\n",
       "       [2., 0., 3., 9., 5., 3., 0., 3., 6., 9.],\n",
       "       [8., 4., 0., 4., 7., 7., 7., 2., 3., 3.],\n",
       "       [2., 7., 9., 2., 3., 9., 2., 1., 6., 3.],\n",
       "       [7., 0., 7., 4., 1., 8., 2., 7., 2., 3.],\n",
       "       [3., 8., 0., 9., 1., 9., 6., 1., 0., 7.],\n",
       "       [5., 7., 5., 2., 6., 0., 4., 9., 8., 8.],\n",
       "       [3., 4., 1., 9., 9., 7., 5., 4., 9., 6.],\n",
       "       [0., 2., 5., 6., 6., 5., 5., 7., 7., 7.]])"
      ]
     },
     "execution_count": 5,
     "metadata": {},
     "output_type": "execute_result"
    }
   ],
   "source": [
    "data[:50]"
   ]
  },
  {
   "cell_type": "code",
   "execution_count": 6,
   "metadata": {},
   "outputs": [
    {
     "data": {
      "text/plain": [
       "(10000, 10)"
      ]
     },
     "execution_count": 6,
     "metadata": {},
     "output_type": "execute_result"
    }
   ],
   "source": [
    "data.shape"
   ]
  },
  {
   "cell_type": "code",
   "execution_count": 7,
   "metadata": {},
   "outputs": [],
   "source": [
    "label = np.zeros([data.shape[0], 4])"
   ]
  },
  {
   "cell_type": "code",
   "execution_count": 8,
   "metadata": {},
   "outputs": [
    {
     "data": {
      "text/plain": [
       "(10000, 4)"
      ]
     },
     "execution_count": 8,
     "metadata": {},
     "output_type": "execute_result"
    }
   ],
   "source": [
    "label.shape"
   ]
  },
  {
   "cell_type": "code",
   "execution_count": 16,
   "metadata": {},
   "outputs": [],
   "source": [
    "for i in range(len(label)):\n",
    "    pointer = np.random.randint(0,9)\n",
    "    \n",
    "    if pointer > data.shape[1]-5:\n",
    "        # get the last sequence of the data\n",
    "        point = data[i, pointer:]\n",
    "    else:\n",
    "        label[i,:] = data[i, pointer:pointer+4]"
   ]
  },
  {
   "cell_type": "code",
   "execution_count": null,
   "metadata": {},
   "outputs": [],
   "source": []
  },
  {
   "cell_type": "code",
   "execution_count": 10,
   "metadata": {},
   "outputs": [
    {
     "data": {
      "text/plain": [
       "array([[3., 9., 5., 6., 8., 8., 3., 0., 0., 8.],\n",
       "       [2., 4., 7., 1., 7., 5., 3., 8., 5., 1.],\n",
       "       [7., 4., 7., 6., 9., 0., 3., 1., 5., 3.],\n",
       "       [8., 1., 0., 1., 8., 3., 0., 4., 7., 6.],\n",
       "       [3., 9., 1., 4., 6., 0., 3., 6., 7., 6.],\n",
       "       [4., 2., 2., 4., 3., 2., 1., 4., 6., 8.],\n",
       "       [9., 1., 2., 0., 5., 9., 1., 7., 9., 1.],\n",
       "       [8., 8., 4., 9., 4., 0., 0., 5., 4., 7.],\n",
       "       [9., 9., 0., 7., 2., 8., 2., 5., 5., 2.],\n",
       "       [7., 6., 9., 4., 2., 8., 0., 2., 5., 6.]])"
      ]
     },
     "execution_count": 10,
     "metadata": {},
     "output_type": "execute_result"
    }
   ],
   "source": [
    "data[:10]"
   ]
  },
  {
   "cell_type": "code",
   "execution_count": 11,
   "metadata": {},
   "outputs": [
    {
     "data": {
      "text/plain": [
       "array([[6., 8., 8., 3.],\n",
       "       [7., 1., 7., 5.],\n",
       "       [4., 7., 6., 9.],\n",
       "       ...,\n",
       "       [3., 6., 5., 6.],\n",
       "       [0., 0., 0., 0.],\n",
       "       [0., 0., 0., 0.]])"
      ]
     },
     "execution_count": 11,
     "metadata": {},
     "output_type": "execute_result"
    }
   ],
   "source": [
    "label"
   ]
  },
  {
   "cell_type": "code",
   "execution_count": 12,
   "metadata": {},
   "outputs": [
    {
     "name": "stderr",
     "output_type": "stream",
     "text": [
      "Using TensorFlow backend.\n"
     ]
    }
   ],
   "source": [
    "from keras.models import Model\n",
    "from keras.layers import Input, LSTM, Dense"
   ]
  },
  {
   "cell_type": "code",
   "execution_count": 13,
   "metadata": {},
   "outputs": [
    {
     "ename": "NameError",
     "evalue": "name 'state_h' is not defined",
     "output_type": "error",
     "traceback": [
      "\u001b[0;31m---------------------------------------------------------------------------\u001b[0m",
      "\u001b[0;31mNameError\u001b[0m                                 Traceback (most recent call last)",
      "\u001b[0;32m<ipython-input-13-d9a6946c33b9>\u001b[0m in \u001b[0;36m<module>\u001b[0;34m\u001b[0m\n\u001b[1;32m      4\u001b[0m \u001b[0;34m\u001b[0m\u001b[0m\n\u001b[1;32m      5\u001b[0m \u001b[0;34m\u001b[0m\u001b[0m\n\u001b[0;32m----> 6\u001b[0;31m \u001b[0mencoder_states\u001b[0m \u001b[0;34m=\u001b[0m \u001b[0;34m[\u001b[0m\u001b[0mstate_h\u001b[0m\u001b[0;34m,\u001b[0m \u001b[0mstate_c\u001b[0m\u001b[0;34m]\u001b[0m\u001b[0;34m\u001b[0m\u001b[0m\n\u001b[0m",
      "\u001b[0;31mNameError\u001b[0m: name 'state_h' is not defined"
     ]
    }
   ],
   "source": [
    "encoder_inputs = Input(shape=(None, data.shape[1]))\n",
    "encoder = LSTM(10)\n",
    "encoder_outputs= encoder(encoder_inputs)\n",
    "\n",
    "\n",
    "encoder_states = [state_h, state_c]"
   ]
  },
  {
   "cell_type": "code",
   "execution_count": null,
   "metadata": {},
   "outputs": [],
   "source": [
    "# decoder_inputs = Input(shape=(label.shape[1]),)\n",
    "decoder_lstm = LSTM(10, return_sequences=True, return_state=True)\n",
    "decoder_outputs, _, _ = decoder_lstm(encoder_state)\n",
    "\n",
    "decoder_dense = Dense(label.shape[1], activation='softmax')\n",
    "decoder_outputs = decoder_dense(decoder_outputs)"
   ]
  },
  {
   "cell_type": "code",
   "execution_count": null,
   "metadata": {},
   "outputs": [],
   "source": [
    "model = Model([encoder_inputs, decoder_inputs], decoder_outputs)"
   ]
  },
  {
   "cell_type": "code",
   "execution_count": null,
   "metadata": {},
   "outputs": [],
   "source": [
    "model.compile(optimizer='adams',\n",
    "             loss='categorical_crossentropy')\n",
    "model.fit([])"
   ]
  }
 ],
 "metadata": {
  "kernelspec": {
   "display_name": "Python 3",
   "language": "python",
   "name": "python3"
  },
  "language_info": {
   "codemirror_mode": {
    "name": "ipython",
    "version": 3
   },
   "file_extension": ".py",
   "mimetype": "text/x-python",
   "name": "python",
   "nbconvert_exporter": "python",
   "pygments_lexer": "ipython3",
   "version": "3.6.7"
  }
 },
 "nbformat": 4,
 "nbformat_minor": 2
}
