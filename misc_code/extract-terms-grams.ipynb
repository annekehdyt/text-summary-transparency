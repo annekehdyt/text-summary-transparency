{
 "cells": [
  {
   "cell_type": "code",
   "execution_count": 1,
   "metadata": {},
   "outputs": [],
   "source": [
    "import pandas as pd\n",
    "import pickle\n",
    "import numpy as np\n",
    "from sklearn.tree import DecisionTreeClassifier \n",
    "from sklearn.model_selection import train_test_split"
   ]
  },
  {
   "cell_type": "code",
   "execution_count": 3,
   "metadata": {},
   "outputs": [],
   "source": [
    "def open_pickle(path):\n",
    "    import pickle\n",
    "    with open(path, 'rb') as f:\n",
    "        X = pickle.load(f)\n",
    "    return X\n",
    "\n",
    "X_train_original = open_pickle('../../data/imdb/imdb_original_preprocessed_xtrain.pickle')\n",
    "X_test_original = open_pickle('../../data/imdb/imdb_original_preprocessed_xtest.pickle')\n",
    "y_train_original = open_pickle('../../data/imdb/imdb_original_preprocessed_ytrain.pickle')\n",
    "y_test_original = open_pickle('../../data/imdb/imdb_original_preprocessed_ytest.pickle')"
   ]
  },
  {
   "cell_type": "code",
   "execution_count": 4,
   "metadata": {},
   "outputs": [],
   "source": [
    "from sklearn.feature_extraction.text import CountVectorizer\n",
    "\n",
    "token = r\"(?u)\\b[\\w\\'/]+\\b\"\n",
    "cv = CountVectorizer(min_df = 100, token_pattern=token, lowercase=True, binary=True)\n",
    "X_train = cv.fit_transform(X_train_original)\n",
    "X_test = cv.transform(X_test_original)"
   ]
  },
  {
   "cell_type": "markdown",
   "metadata": {},
   "source": [
    "### Extract list"
   ]
  },
  {
   "cell_type": "code",
   "execution_count": 5,
   "metadata": {},
   "outputs": [],
   "source": [
    "from sklearn.linear_model import LogisticRegression"
   ]
  },
  {
   "cell_type": "code",
   "execution_count": 6,
   "metadata": {},
   "outputs": [
    {
     "name": "stderr",
     "output_type": "stream",
     "text": [
      "/home/anneke/.local/lib/python3.6/site-packages/sklearn/linear_model/logistic.py:432: FutureWarning: Default solver will be changed to 'lbfgs' in 0.22. Specify a solver to silence this warning.\n",
      "  FutureWarning)\n"
     ]
    },
    {
     "data": {
      "text/plain": [
       "LogisticRegression(C=1.0, class_weight=None, dual=False, fit_intercept=True,\n",
       "          intercept_scaling=1, max_iter=100, multi_class='warn',\n",
       "          n_jobs=None, penalty='l1', random_state=42, solver='warn',\n",
       "          tol=0.0001, verbose=0, warm_start=False)"
      ]
     },
     "execution_count": 6,
     "metadata": {},
     "output_type": "execute_result"
    }
   ],
   "source": [
    "clf = LogisticRegression(random_state=42, penalty='l1')\n",
    "clf.fit(X_train, y_train_original)"
   ]
  },
  {
   "cell_type": "code",
   "execution_count": 7,
   "metadata": {},
   "outputs": [],
   "source": [
    "coef = clf.coef_[0]\n",
    "indices = np.argsort(np.absolute(coef))[::-1]\n",
    "word = cv.get_feature_names()"
   ]
  },
  {
   "cell_type": "code",
   "execution_count": 8,
   "metadata": {},
   "outputs": [],
   "source": [
    "word_list = [word[i] for i in indices[:100]]"
   ]
  },
  {
   "cell_type": "code",
   "execution_count": 48,
   "metadata": {},
   "outputs": [
    {
     "data": {
      "text/plain": [
       "100"
      ]
     },
     "execution_count": 48,
     "metadata": {},
     "output_type": "execute_result"
    }
   ],
   "source": [
    "len(word_list)"
   ]
  },
  {
   "cell_type": "markdown",
   "metadata": {},
   "source": [
    "### Extract 'k window' phrase"
   ]
  },
  {
   "cell_type": "code",
   "execution_count": 10,
   "metadata": {},
   "outputs": [
    {
     "data": {
      "text/plain": [
       "'silent night, deadly night 5 is the very last of the series, and like part 4, it is unrelated to the first three except by title and the fact that it is a christmas-themed horror flick.except to the oblivious, there is some obvious thing going on here...mickey rooney plays a toymaker named joe petto and his creepy son\\'s name is pino. ring a bell, anyone? now, a little boy named derek heard a knock at the door one evening, and opened it to find a present on the doorstep for him. even though it said \"do not open till christmas\", he begins to open it anyway but is stopped by his dad, who scolds him and sends him to bed, and opens the gift himself. inside is a little red ball that sprouts santa arm and a head, and proceed to kill dad. oop, maybe he should have left well-enough alone. of course derek is then traumatized by the incident since he watched it from the stair, but he does not grow up to be some killer santa, he just stops talking.there is a mysterious stranger lurking around, who seems very interested in the toy that joe petto makes. we even see him buying a bunch when derek\\'s mom takes him to the store to find a gift for him to ing him out of his trauma. and what exactly is this guy doing? well, we are not sure but he does seem to be taking these toy apart to see what makes them tick. he does keep his landlord from evicting him by promising him to pay him in cash the next day and present him with a \"larry the larvae\" toy for his kid, but of course \"larry\" is not a good toy and gets out of the box in the car and of course, well, thing are not pretty.anyway, eventually what is going on with joe petto and pino is of course revealed, and as with the old story, pino is not a \"real boy\". pino is probably even more agitated and naughty because he suffers from \"kenitalium\" (a smooth plastic crotch) so that could account for his evil way. and the identity of the lurking stranger is revealed too, and there is even kind of a happy ending of sort. whee.a step up from part 4, but not much of one. again, brian yuzna is involved, and screaming mad george, so some decent special effect, but not enough to make this great. a few leftover from part 4 are hanging around too, like clint howard and neith hunter, but that does not really make any difference. anyway, i now have seeing the whole series out of my system. now if i could get some of it out of my ain. 4 out of 5.'"
      ]
     },
     "execution_count": 10,
     "metadata": {},
     "output_type": "execute_result"
    }
   ],
   "source": [
    "X_train_original[0]"
   ]
  },
  {
   "cell_type": "code",
   "execution_count": 12,
   "metadata": {},
   "outputs": [],
   "source": [
    "import nltk, re, pprint\n",
    "from nltk import word_tokenize"
   ]
  },
  {
   "cell_type": "code",
   "execution_count": 46,
   "metadata": {},
   "outputs": [
    {
     "data": {
      "text/plain": [
       "534"
      ]
     },
     "execution_count": 46,
     "metadata": {},
     "output_type": "execute_result"
    }
   ],
   "source": [
    "len(word_tokenize(X_train_original[0]))"
   ]
  },
  {
   "cell_type": "code",
   "execution_count": 14,
   "metadata": {},
   "outputs": [],
   "source": [
    "vocab = cv.vocabulary_"
   ]
  },
  {
   "cell_type": "code",
   "execution_count": 15,
   "metadata": {},
   "outputs": [
    {
     "data": {
      "text/plain": [
       "119"
      ]
     },
     "execution_count": 15,
     "metadata": {},
     "output_type": "execute_result"
    }
   ],
   "source": [
    "vocab['affect']"
   ]
  },
  {
   "cell_type": "code",
   "execution_count": 29,
   "metadata": {},
   "outputs": [],
   "source": [
    "X_tr_phrase = []\n",
    "token_list = []\n",
    "k = 2\n",
    "\n",
    "for doc in X_train_original:\n",
    "    token_list = []\n",
    "    token = word_tokenize(doc)\n",
    "    for i,tok in enumerate(token):\n",
    "        for j, word in enumerate(word_list):\n",
    "            if tok==word:\n",
    "                # Check if it reach end of document\n",
    "                if i>=len(token)-1-k:\n",
    "                    break\n",
    "                \n",
    "                join = ' '.join(token[i-k:i+k+1])\n",
    "                token_list.append(join)\n",
    "    \n",
    "    X_tr_phrase.append(token_list)"
   ]
  },
  {
   "cell_type": "code",
   "execution_count": 30,
   "metadata": {},
   "outputs": [
    {
     "data": {
      "text/plain": [
       "25000"
      ]
     },
     "execution_count": 30,
     "metadata": {},
     "output_type": "execute_result"
    }
   ],
   "source": [
    "# nltk.download('punkt')\n",
    "len(X_tr_phrase)"
   ]
  },
  {
   "cell_type": "code",
   "execution_count": 31,
   "metadata": {},
   "outputs": [],
   "source": [
    "len_track = []\n",
    "for doc in X_tr_phrase:\n",
    "    len_track.append(len(doc))\n",
    "len_track = np.asarray(len_track)"
   ]
  },
  {
   "cell_type": "code",
   "execution_count": 39,
   "metadata": {},
   "outputs": [
    {
     "data": {
      "text/plain": [
       "25000"
      ]
     },
     "execution_count": 39,
     "metadata": {},
     "output_type": "execute_result"
    }
   ],
   "source": [
    "len(len_track)"
   ]
  },
  {
   "cell_type": "code",
   "execution_count": 34,
   "metadata": {},
   "outputs": [],
   "source": [
    "from sklearn.model_selection import train_test_split\n",
    "\n",
    "'''\n",
    "Assuming the label is already binarized\n",
    "'''\n",
    "\n",
    "\n",
    "class ExtractWindowTerms():\n",
    "    def __init__(self, X_tr, y_tr, train_test_split=False, random_state=42, test_size=(1./3)):\n",
    "        self.X_tr = X_tr\n",
    "        self.y_tr = y_tr\n",
    "        self.random_state = random_state\n",
    "        self.test_size = test_size\n",
    "        self.token = r\"(?u)\\b[\\w\\'/]+\\b\"\n",
    "        \n",
    "        if train_test_split:\n",
    "            self.X_tr, self.X_te, self.y_tr, self.y_te = train_test_split(\n",
    "                self.X_tr, \n",
    "                self.y_tr, \n",
    "                test_size=self.test_size, \n",
    "                random_state=self.random_state)\n",
    "        \n",
    "    def extract_word_list(self, min_df=100, penalty='l1', n_word = 100):\n",
    "        cv = CountVectorizer(min_df = min_df, token_pattern=self.token, lowercase=True, binary=True)\n",
    "        self.X_train = cv.fit_transform(self.X_tr)\n",
    "        \n",
    "        clf = LogisticRegression(random_state=self.random_state, penalty=penalty)\n",
    "        clf.fit(self.X_train, self.y_tr)\n",
    "        \n",
    "        coef = clf.coef_[0]\n",
    "        indices = np.argsort(np.absolute(coef))[::-1]\n",
    "        word = cv.get_feature_names()\n",
    "        self.word_list = [word[i] for i in indices[:n_word]]\n",
    "        \n",
    "        return self.word_list\n",
    "    \n",
    "    def k_window_slicing(self, X, k_window=2):\n",
    "        \n",
    "        X_phrase = []\n",
    "        token_list = []\n",
    "\n",
    "        for doc in X:\n",
    "            token_list = []\n",
    "            token = word_tokenize(doc)\n",
    "            \n",
    "            for i,tok in enumerate(token):\n",
    "                for j, word in enumerate(word_list):\n",
    "                    if tok==word:\n",
    "                        # Check if it reach end of document\n",
    "                        if i>=len(token)-1-k_window:\n",
    "                            break\n",
    "\n",
    "                        join = ' '.join(token[i-k_window:i+k_window+1])\n",
    "                        token_list.append(join)\n",
    "\n",
    "            X_phrase.append(token_list)\n",
    "            \n",
    "        return X_phrase"
   ]
  },
  {
   "cell_type": "code",
   "execution_count": 35,
   "metadata": {},
   "outputs": [],
   "source": [
    "ext = ExtractWindowTerms(X_train_original, y_train_original)"
   ]
  },
  {
   "cell_type": "code",
   "execution_count": 36,
   "metadata": {},
   "outputs": [],
   "source": [
    "_ = ext.extract_word_list()"
   ]
  },
  {
   "cell_type": "code",
   "execution_count": 37,
   "metadata": {},
   "outputs": [],
   "source": [
    "X_phrase = ext.k_window_slicing(X_train_original, k_window=3)"
   ]
  },
  {
   "cell_type": "code",
   "execution_count": 42,
   "metadata": {},
   "outputs": [
    {
     "data": {
      "text/plain": [
       "14949"
      ]
     },
     "execution_count": 42,
     "metadata": {},
     "output_type": "execute_result"
    }
   ],
   "source": [
    "len([i for i in X_phrase if len(i)>0])"
   ]
  },
  {
   "cell_type": "code",
   "execution_count": 41,
   "metadata": {},
   "outputs": [
    {
     "data": {
      "text/plain": [
       "10051"
      ]
     },
     "execution_count": 41,
     "metadata": {},
     "output_type": "execute_result"
    }
   ],
   "source": [
    "len([i for i in X_phrase if len(i)==0])"
   ]
  },
  {
   "cell_type": "code",
   "execution_count": 47,
   "metadata": {},
   "outputs": [
    {
     "data": {
      "text/plain": [
       "100"
      ]
     },
     "execution_count": 47,
     "metadata": {},
     "output_type": "execute_result"
    }
   ],
   "source": [
    "len(_)"
   ]
  },
  {
   "cell_type": "code",
   "execution_count": 49,
   "metadata": {},
   "outputs": [
    {
     "data": {
      "text/plain": [
       "['7/10',\n",
       " '3/10',\n",
       " '1/10',\n",
       " '4/10',\n",
       " '2/10',\n",
       " '8/10',\n",
       " 'unwatchable',\n",
       " 'refreshing',\n",
       " 'incoherent',\n",
       " 'unfunny',\n",
       " 'stinker',\n",
       " 'waste',\n",
       " '10/10',\n",
       " 'disappointment',\n",
       " 'poorly',\n",
       " 'behave',\n",
       " 'superbly',\n",
       " 'worst',\n",
       " 'miscast',\n",
       " 'flawless',\n",
       " 'uninspired',\n",
       " '9/10',\n",
       " 'appalling',\n",
       " 'pointless',\n",
       " 'lousy',\n",
       " 'cardboard',\n",
       " 'boredom',\n",
       " 'forgettable',\n",
       " 'mildly',\n",
       " 'obnoxious',\n",
       " 'hooked',\n",
       " 'awful',\n",
       " 'mst3k',\n",
       " 'haunting',\n",
       " 'fails',\n",
       " 'fest',\n",
       " 'wooden',\n",
       " 'furthermore',\n",
       " 'laughable',\n",
       " 'alright',\n",
       " 'dull',\n",
       " 'dimensional',\n",
       " 'captures',\n",
       " 'appreciated',\n",
       " 'noir',\n",
       " 'troubled',\n",
       " 'uninteresting',\n",
       " 'wasting',\n",
       " 'rare',\n",
       " 'incredible',\n",
       " 'dreadful',\n",
       " 'junk',\n",
       " 'lacks',\n",
       " 'credibility',\n",
       " 'existed',\n",
       " 'avoid',\n",
       " 'disappointing',\n",
       " 'wonderfully',\n",
       " 'batman',\n",
       " 'ripped',\n",
       " 'dramas',\n",
       " 'underrated',\n",
       " 'monkey',\n",
       " 'outer',\n",
       " 'remotely',\n",
       " 'tight',\n",
       " 'ideal',\n",
       " 'smooth',\n",
       " 'mess',\n",
       " 'gem',\n",
       " 'redeeming',\n",
       " 'funniest',\n",
       " 'excellent',\n",
       " 'hype',\n",
       " 'trite',\n",
       " 'prince',\n",
       " 'driven',\n",
       " 'generous',\n",
       " 'boring',\n",
       " 'delightful',\n",
       " 'pretentious',\n",
       " 'executed',\n",
       " 'steals',\n",
       " 'dire',\n",
       " 'balance',\n",
       " 'endless',\n",
       " 'unintentional',\n",
       " 'surprisingly',\n",
       " 'unconvincing',\n",
       " 'devoid',\n",
       " 'and/or',\n",
       " 'superb',\n",
       " 'stupidity',\n",
       " 'fashioned',\n",
       " 'insult',\n",
       " 'badly',\n",
       " 'pathetic',\n",
       " 'affect',\n",
       " 'jackie',\n",
       " 'teach']"
      ]
     },
     "execution_count": 49,
     "metadata": {},
     "output_type": "execute_result"
    }
   ],
   "source": [
    "_"
   ]
  },
  {
   "cell_type": "code",
   "execution_count": null,
   "metadata": {},
   "outputs": [],
   "source": []
  }
 ],
 "metadata": {
  "kernelspec": {
   "display_name": "Python 3",
   "language": "python",
   "name": "python3"
  },
  "language_info": {
   "codemirror_mode": {
    "name": "ipython",
    "version": 3
   },
   "file_extension": ".py",
   "mimetype": "text/x-python",
   "name": "python",
   "nbconvert_exporter": "python",
   "pygments_lexer": "ipython3",
   "version": "3.6.7"
  }
 },
 "nbformat": 4,
 "nbformat_minor": 2
}
