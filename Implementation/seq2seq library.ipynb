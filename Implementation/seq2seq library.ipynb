{
 "cells": [
  {
   "cell_type": "code",
   "execution_count": 1,
   "metadata": {},
   "outputs": [
    {
     "name": "stderr",
     "output_type": "stream",
     "text": [
      "Using TensorFlow backend.\n"
     ]
    }
   ],
   "source": [
    "import os\n",
    "os.environ[\"CUDA_DEVICE_ORDER\"]=\"PCI_BUS_ID\"   # see issue #152\n",
    "os.environ[\"CUDA_VISIBLE_DEVICES\"]=\"0\"\n",
    "\n",
    "import seq2seq\n",
    "import numpy as np\n",
    "from seq2seq.models import SimpleSeq2Seq, Seq2Seq"
   ]
  },
  {
   "cell_type": "code",
   "execution_count": 2,
   "metadata": {},
   "outputs": [],
   "source": [
    "model = SimpleSeq2Seq(input_dim=5, hidden_dim=10, output_length=8, output_dim=8)\n",
    "model.compile(loss='mse', optimizer='rmsprop')"
   ]
  },
  {
   "cell_type": "code",
   "execution_count": 3,
   "metadata": {},
   "outputs": [],
   "source": [
    "input_length = 5\n",
    "input_dim = 3\n",
    "\n",
    "output_length = 3\n",
    "output_dim = 4\n",
    "\n",
    "samples = 100\n",
    "hidden_dim = 24\n",
    "\n",
    "def test_Seq2Seq():\n",
    "    x = np.random.random((samples, input_length, input_dim))\n",
    "    y = np.random.random((samples, output_length, output_dim))\n",
    "\n",
    "    models = []\n",
    "    models += [Seq2Seq(output_dim=output_dim, hidden_dim=hidden_dim, output_length=output_length, input_shape=(input_length, input_dim))]\n",
    "    models += [Seq2Seq(output_dim=output_dim, hidden_dim=hidden_dim, output_length=output_length, input_shape=(input_length, input_dim), peek=True)]\n",
    "    models += [Seq2Seq(output_dim=output_dim, hidden_dim=hidden_dim, output_length=output_length, input_shape=(input_length, input_dim), depth=2)]\n",
    "    models += [Seq2Seq(output_dim=output_dim, hidden_dim=hidden_dim, output_length=output_length, input_shape=(input_length, input_dim), peek=True, depth=2)]\n",
    "\n",
    "    for model in models:\n",
    "        model.compile(loss='mse', optimizer='sgd')\n",
    "        model.fit(x, y, epochs=1)\n",
    "\n",
    "    model = Seq2Seq(output_dim=output_dim, hidden_dim=hidden_dim, output_length=output_length, input_shape=(input_length, input_dim), peek=True, depth=2, teacher_force=True)\n",
    "    model.compile(loss='mse', optimizer='sgd')\n",
    "    model.fit([x, y], y, epochs=1)"
   ]
  },
  {
   "cell_type": "code",
   "execution_count": 4,
   "metadata": {},
   "outputs": [],
   "source": [
    "# test_Seq2Seq()"
   ]
  },
  {
   "cell_type": "code",
   "execution_count": 5,
   "metadata": {},
   "outputs": [],
   "source": [
    "np.random.seed(42)\n",
    "data = np.random.random((10000,10,10))\n",
    "label = np.random.random((10000,4,10))"
   ]
  },
  {
   "cell_type": "code",
   "execution_count": null,
   "metadata": {},
   "outputs": [],
   "source": []
  },
  {
   "cell_type": "code",
   "execution_count": 6,
   "metadata": {},
   "outputs": [],
   "source": [
    "# for i in range(len(label)):\n",
    "#     pointer = np.random.randint(0,9)\n",
    "    \n",
    "#     if pointer > data.shape[1]-5:\n",
    "#         # get the last sequence of the data\n",
    "#         point = data[i, pointer:]\n",
    "#     else:\n",
    "#         label[i,:] = data[i, pointer:pointer+4]"
   ]
  },
  {
   "cell_type": "code",
   "execution_count": 7,
   "metadata": {},
   "outputs": [
    {
     "name": "stdout",
     "output_type": "stream",
     "text": [
      "Train on 6666 samples, validate on 3334 samples\n",
      "Epoch 1/10\n",
      "6666/6666 [==============================] - 12s 2ms/step - loss: 0.0982 - mean_absolute_error: 0.2649 - val_loss: 0.0834 - val_mean_absolute_error: 0.2496\n",
      "Epoch 2/10\n",
      "6666/6666 [==============================] - 10s 1ms/step - loss: 0.0835 - mean_absolute_error: 0.2502 - val_loss: 0.0831 - val_mean_absolute_error: 0.2492\n",
      "Epoch 3/10\n",
      "6666/6666 [==============================] - 10s 1ms/step - loss: 0.0835 - mean_absolute_error: 0.2502 - val_loss: 0.0830 - val_mean_absolute_error: 0.2492\n",
      "Epoch 4/10\n",
      "6666/6666 [==============================] - 10s 1ms/step - loss: 0.0835 - mean_absolute_error: 0.2501 - val_loss: 0.0830 - val_mean_absolute_error: 0.2492\n",
      "Epoch 5/10\n",
      "6666/6666 [==============================] - 10s 1ms/step - loss: 0.0835 - mean_absolute_error: 0.2501 - val_loss: 0.0830 - val_mean_absolute_error: 0.2492\n",
      "Epoch 6/10\n",
      "6666/6666 [==============================] - 10s 1ms/step - loss: 0.0834 - mean_absolute_error: 0.2501 - val_loss: 0.0831 - val_mean_absolute_error: 0.2494\n",
      "Epoch 7/10\n",
      "6666/6666 [==============================] - 10s 1ms/step - loss: 0.0834 - mean_absolute_error: 0.2501 - val_loss: 0.0830 - val_mean_absolute_error: 0.2492\n",
      "Epoch 8/10\n",
      "6666/6666 [==============================] - 10s 1ms/step - loss: 0.0834 - mean_absolute_error: 0.2501 - val_loss: 0.0830 - val_mean_absolute_error: 0.2492\n",
      "Epoch 9/10\n",
      "6666/6666 [==============================] - 10s 1ms/step - loss: 0.0834 - mean_absolute_error: 0.2500 - val_loss: 0.0831 - val_mean_absolute_error: 0.2493\n",
      "Epoch 10/10\n",
      "6666/6666 [==============================] - 10s 1ms/step - loss: 0.0834 - mean_absolute_error: 0.2500 - val_loss: 0.0831 - val_mean_absolute_error: 0.2493\n"
     ]
    },
    {
     "data": {
      "text/plain": [
       "<keras.callbacks.History at 0x7f9c196ff0f0>"
      ]
     },
     "execution_count": 7,
     "metadata": {},
     "output_type": "execute_result"
    }
   ],
   "source": [
    "model = Seq2Seq(output_dim=10, hidden_dim=50, output_length=4, input_shape=(10, 10))\n",
    "model.compile(loss='mse', optimizer='adam', metrics=['mae'])\n",
    "model.fit([data], label, epochs=10, validation_split=(1./3))"
   ]
  },
  {
   "cell_type": "code",
   "execution_count": 12,
   "metadata": {},
   "outputs": [],
   "source": [
    "pred = model.predict(data[:1])"
   ]
  },
  {
   "cell_type": "code",
   "execution_count": 11,
   "metadata": {},
   "outputs": [
    {
     "data": {
      "text/plain": [
       "(1, 10, 10)"
      ]
     },
     "execution_count": 11,
     "metadata": {},
     "output_type": "execute_result"
    }
   ],
   "source": [
    "data[:1].shape"
   ]
  },
  {
   "cell_type": "code",
   "execution_count": 13,
   "metadata": {},
   "outputs": [
    {
     "data": {
      "text/plain": [
       "array([[[0.48195535, 0.44441974, 0.49655417, 0.4691927 , 0.50977457,\n",
       "         0.47455117, 0.5040685 , 0.5247297 , 0.48842707, 0.512302  ],\n",
       "        [0.48063907, 0.45735526, 0.5031325 , 0.49827263, 0.5070409 ,\n",
       "         0.48778906, 0.505376  , 0.52907956, 0.49412093, 0.5002193 ],\n",
       "        [0.4900269 , 0.46158132, 0.5075035 , 0.5056462 , 0.5016701 ,\n",
       "         0.497677  , 0.5118718 , 0.5309539 , 0.4967806 , 0.50285804],\n",
       "        [0.4901151 , 0.46292168, 0.50362134, 0.50463   , 0.49621844,\n",
       "         0.4996919 , 0.5079209 , 0.53030163, 0.4925047 , 0.5004274 ]]],\n",
       "      dtype=float32)"
      ]
     },
     "execution_count": 13,
     "metadata": {},
     "output_type": "execute_result"
    }
   ],
   "source": [
    "pred"
   ]
  },
  {
   "cell_type": "code",
   "execution_count": 14,
   "metadata": {},
   "outputs": [
    {
     "data": {
      "text/plain": [
       "array([[0.59515562, 0.36471714, 0.00537562, 0.56108773, 0.89657041,\n",
       "        0.5317169 , 0.78048768, 0.16195431, 0.13729767, 0.89394354],\n",
       "       [0.78299819, 0.34741033, 0.80017235, 0.07532555, 0.51790047,\n",
       "        0.88145624, 0.8436007 , 0.3712535 , 0.2288488 , 0.8678649 ],\n",
       "       [0.26690079, 0.82202461, 0.2665175 , 0.98453327, 0.36012019,\n",
       "        0.25536162, 0.59922773, 0.35971002, 0.81042748, 0.73274968],\n",
       "       [0.63249549, 0.42201346, 0.83461111, 0.30613723, 0.29572187,\n",
       "        0.09147569, 0.56350017, 0.69694467, 0.71299797, 0.8614045 ]])"
      ]
     },
     "execution_count": 14,
     "metadata": {},
     "output_type": "execute_result"
    }
   ],
   "source": [
    "label[0]"
   ]
  },
  {
   "cell_type": "code",
   "execution_count": null,
   "metadata": {},
   "outputs": [],
   "source": []
  }
 ],
 "metadata": {
  "kernelspec": {
   "display_name": "Python 3",
   "language": "python",
   "name": "python3"
  },
  "language_info": {
   "codemirror_mode": {
    "name": "ipython",
    "version": 3
   },
   "file_extension": ".py",
   "mimetype": "text/x-python",
   "name": "python",
   "nbconvert_exporter": "python",
   "pygments_lexer": "ipython3",
   "version": "3.6.6"
  }
 },
 "nbformat": 4,
 "nbformat_minor": 2
}
