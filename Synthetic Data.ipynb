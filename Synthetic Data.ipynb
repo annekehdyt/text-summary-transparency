{
 "cells": [
  {
   "cell_type": "code",
   "execution_count": 33,
   "metadata": {},
   "outputs": [],
   "source": [
    "import numpy as np\n",
    "# np.random.seed(42)"
   ]
  },
  {
   "cell_type": "code",
   "execution_count": 34,
   "metadata": {},
   "outputs": [
    {
     "data": {
      "text/plain": [
       "array([7, 6, 7, 0, 6, 7, 6, 7, 4, 7])"
      ]
     },
     "execution_count": 34,
     "metadata": {},
     "output_type": "execute_result"
    }
   ],
   "source": [
    "np.random.randint(0,9,10)"
   ]
  },
  {
   "cell_type": "code",
   "execution_count": 45,
   "metadata": {},
   "outputs": [],
   "source": [
    "data = np.zeros([10000, 10])"
   ]
  },
  {
   "cell_type": "code",
   "execution_count": 46,
   "metadata": {},
   "outputs": [],
   "source": [
    "for i in range(data.shape[0]):\n",
    "    data[i,:] = np.random.randint(0,10,10)"
   ]
  },
  {
   "cell_type": "code",
   "execution_count": 47,
   "metadata": {},
   "outputs": [
    {
     "data": {
      "text/plain": [
       "array([[4., 0., 5., 7., 6., 9., 7., 1., 0., 9.],\n",
       "       [7., 3., 8., 6., 4., 7., 3., 8., 6., 3.],\n",
       "       [3., 8., 9., 8., 7., 2., 5., 5., 5., 3.],\n",
       "       [8., 4., 6., 3., 3., 0., 1., 2., 8., 9.],\n",
       "       [2., 9., 3., 2., 3., 3., 9., 5., 6., 0.],\n",
       "       [9., 9., 8., 3., 8., 4., 4., 2., 5., 8.],\n",
       "       [9., 3., 0., 9., 2., 4., 8., 4., 6., 0.],\n",
       "       [1., 8., 1., 5., 6., 7., 1., 9., 6., 1.],\n",
       "       [4., 8., 7., 3., 2., 3., 5., 5., 8., 5.],\n",
       "       [9., 3., 9., 9., 4., 0., 7., 7., 6., 7.],\n",
       "       [2., 5., 0., 0., 6., 7., 1., 1., 7., 4.],\n",
       "       [9., 5., 1., 2., 3., 6., 9., 1., 2., 1.],\n",
       "       [4., 4., 4., 4., 5., 6., 6., 2., 4., 5.],\n",
       "       [8., 1., 4., 4., 4., 0., 0., 3., 7., 6.],\n",
       "       [8., 6., 7., 3., 8., 5., 1., 7., 5., 0.],\n",
       "       [1., 0., 0., 0., 2., 2., 5., 0., 1., 0.],\n",
       "       [8., 9., 8., 8., 7., 6., 1., 0., 2., 5.],\n",
       "       [8., 6., 5., 0., 8., 9., 2., 5., 0., 9.],\n",
       "       [0., 7., 0., 9., 8., 2., 0., 0., 2., 5.],\n",
       "       [5., 4., 5., 9., 2., 2., 3., 2., 0., 9.],\n",
       "       [9., 7., 8., 6., 5., 5., 8., 4., 0., 2.],\n",
       "       [8., 9., 0., 1., 9., 0., 6., 4., 6., 9.],\n",
       "       [5., 8., 7., 3., 2., 1., 3., 7., 1., 6.],\n",
       "       [0., 3., 6., 9., 7., 5., 7., 5., 9., 6.],\n",
       "       [5., 4., 1., 0., 7., 2., 9., 0., 7., 6.],\n",
       "       [4., 1., 1., 3., 5., 5., 5., 2., 6., 4.],\n",
       "       [6., 9., 3., 3., 9., 0., 6., 7., 3., 5.],\n",
       "       [4., 3., 6., 0., 7., 7., 2., 3., 8., 3.],\n",
       "       [5., 3., 5., 9., 8., 9., 1., 7., 6., 9.],\n",
       "       [8., 0., 2., 6., 4., 3., 1., 9., 2., 9.],\n",
       "       [3., 0., 2., 7., 4., 4., 2., 4., 9., 0.],\n",
       "       [7., 2., 3., 0., 0., 3., 0., 9., 3., 1.],\n",
       "       [9., 8., 1., 3., 6., 9., 2., 7., 6., 3.],\n",
       "       [2., 2., 7., 5., 8., 9., 6., 2., 3., 7.],\n",
       "       [6., 4., 4., 7., 1., 7., 3., 9., 8., 5.],\n",
       "       [0., 1., 6., 2., 9., 5., 1., 0., 6., 4.],\n",
       "       [2., 7., 6., 8., 1., 2., 2., 6., 2., 7.],\n",
       "       [4., 0., 3., 3., 3., 9., 0., 6., 5., 3.],\n",
       "       [8., 2., 1., 7., 7., 2., 6., 6., 9., 9.],\n",
       "       [1., 0., 2., 7., 2., 8., 5., 4., 3., 4.],\n",
       "       [4., 9., 2., 3., 0., 6., 1., 4., 1., 8.],\n",
       "       [8., 3., 6., 4., 3., 1., 2., 3., 5., 5.],\n",
       "       [5., 9., 4., 3., 0., 1., 3., 0., 3., 7.],\n",
       "       [6., 2., 1., 4., 4., 5., 0., 0., 4., 5.],\n",
       "       [2., 3., 9., 7., 0., 4., 5., 2., 8., 3.],\n",
       "       [0., 0., 5., 7., 6., 4., 2., 7., 5., 0.],\n",
       "       [8., 3., 3., 1., 9., 3., 0., 7., 5., 3.],\n",
       "       [2., 3., 6., 0., 4., 1., 1., 8., 6., 8.],\n",
       "       [0., 9., 0., 5., 7., 6., 0., 6., 8., 7.],\n",
       "       [4., 5., 6., 7., 1., 8., 6., 9., 7., 9.]])"
      ]
     },
     "execution_count": 47,
     "metadata": {},
     "output_type": "execute_result"
    }
   ],
   "source": [
    "data[:50]"
   ]
  },
  {
   "cell_type": "code",
   "execution_count": 48,
   "metadata": {},
   "outputs": [
    {
     "data": {
      "text/plain": [
       "(10000, 10)"
      ]
     },
     "execution_count": 48,
     "metadata": {},
     "output_type": "execute_result"
    }
   ],
   "source": [
    "data.shape"
   ]
  },
  {
   "cell_type": "code",
   "execution_count": 50,
   "metadata": {},
   "outputs": [],
   "source": [
    "label = np.zeros([data.shape[0], 4])"
   ]
  },
  {
   "cell_type": "code",
   "execution_count": 51,
   "metadata": {},
   "outputs": [
    {
     "data": {
      "text/plain": [
       "(10000, 4)"
      ]
     },
     "execution_count": 51,
     "metadata": {},
     "output_type": "execute_result"
    }
   ],
   "source": [
    "label.shape"
   ]
  },
  {
   "cell_type": "code",
   "execution_count": 74,
   "metadata": {},
   "outputs": [],
   "source": [
    "for i in range(len(label)):\n",
    "    pointer = np.random.randint(0,9)\n",
    "    \n",
    "    if pointer > data.shape[1]-5:\n",
    "        point = data[i, pointer:]\n",
    "    else:\n",
    "        label[i,:] = data[i, pointer:pointer+4]"
   ]
  },
  {
   "cell_type": "code",
   "execution_count": null,
   "metadata": {},
   "outputs": [],
   "source": []
  },
  {
   "cell_type": "code",
   "execution_count": 90,
   "metadata": {},
   "outputs": [
    {
     "data": {
      "text/plain": [
       "array([[4., 0., 5., 7., 6., 9., 7., 1., 0., 9.],\n",
       "       [7., 3., 8., 6., 4., 7., 3., 8., 6., 3.],\n",
       "       [3., 8., 9., 8., 7., 2., 5., 5., 5., 3.],\n",
       "       [8., 4., 6., 3., 3., 0., 1., 2., 8., 9.],\n",
       "       [2., 9., 3., 2., 3., 3., 9., 5., 6., 0.],\n",
       "       [9., 9., 8., 3., 8., 4., 4., 2., 5., 8.],\n",
       "       [9., 3., 0., 9., 2., 4., 8., 4., 6., 0.],\n",
       "       [1., 8., 1., 5., 6., 7., 1., 9., 6., 1.],\n",
       "       [4., 8., 7., 3., 2., 3., 5., 5., 8., 5.],\n",
       "       [9., 3., 9., 9., 4., 0., 7., 7., 6., 7.]])"
      ]
     },
     "execution_count": 90,
     "metadata": {},
     "output_type": "execute_result"
    }
   ],
   "source": [
    "data[:10]"
   ]
  },
  {
   "cell_type": "code",
   "execution_count": 91,
   "metadata": {},
   "outputs": [
    {
     "data": {
      "text/plain": [
       "array([[7., 6., 9., 7.],\n",
       "       [8., 6., 4., 7.],\n",
       "       [8., 9., 8., 7.],\n",
       "       ...,\n",
       "       [6., 4., 0., 4.],\n",
       "       [0., 6., 0., 0.],\n",
       "       [7., 8., 7., 8.]])"
      ]
     },
     "execution_count": 91,
     "metadata": {},
     "output_type": "execute_result"
    }
   ],
   "source": [
    "label"
   ]
  },
  {
   "cell_type": "code",
   "execution_count": 77,
   "metadata": {},
   "outputs": [
    {
     "name": "stderr",
     "output_type": "stream",
     "text": [
      "Using TensorFlow backend.\n"
     ]
    }
   ],
   "source": [
    "from keras.models import Model\n",
    "from keras.layers import Input, LSTM, Dense"
   ]
  },
  {
   "cell_type": "code",
   "execution_count": 89,
   "metadata": {},
   "outputs": [],
   "source": [
    "encoder_inputs = Input(shape=(None, data.shape[1]))\n",
    "encoder = LSTM(10)\n",
    "encoder_outputs= encoder(encoder_inputs)\n",
    "\n",
    "\n",
    "encoder_states = [state_h, state_c]"
   ]
  },
  {
   "cell_type": "code",
   "execution_count": 82,
   "metadata": {},
   "outputs": [
    {
     "ename": "NameError",
     "evalue": "name 'encoder_state' is not defined",
     "output_type": "error",
     "traceback": [
      "\u001b[1;31m---------------------------------------------------------------------------\u001b[0m",
      "\u001b[1;31mNameError\u001b[0m                                 Traceback (most recent call last)",
      "\u001b[1;32m<ipython-input-82-9d90b746155b>\u001b[0m in \u001b[0;36m<module>\u001b[1;34m()\u001b[0m\n\u001b[0;32m      1\u001b[0m \u001b[1;31m# decoder_inputs = Input(shape=(label.shape[1]),)\u001b[0m\u001b[1;33m\u001b[0m\u001b[1;33m\u001b[0m\u001b[0m\n\u001b[0;32m      2\u001b[0m \u001b[0mdecoder_lstm\u001b[0m \u001b[1;33m=\u001b[0m \u001b[0mLSTM\u001b[0m\u001b[1;33m(\u001b[0m\u001b[1;36m10\u001b[0m\u001b[1;33m,\u001b[0m \u001b[0mreturn_sequences\u001b[0m\u001b[1;33m=\u001b[0m\u001b[1;32mTrue\u001b[0m\u001b[1;33m,\u001b[0m \u001b[0mreturn_state\u001b[0m\u001b[1;33m=\u001b[0m\u001b[1;32mTrue\u001b[0m\u001b[1;33m)\u001b[0m\u001b[1;33m\u001b[0m\u001b[0m\n\u001b[1;32m----> 3\u001b[1;33m \u001b[0mdecoder_outputs\u001b[0m\u001b[1;33m,\u001b[0m \u001b[0m_\u001b[0m\u001b[1;33m,\u001b[0m \u001b[0m_\u001b[0m \u001b[1;33m=\u001b[0m \u001b[0mdecoder_lstm\u001b[0m\u001b[1;33m(\u001b[0m\u001b[0mencoder_state\u001b[0m\u001b[1;33m)\u001b[0m\u001b[1;33m\u001b[0m\u001b[0m\n\u001b[0m\u001b[0;32m      4\u001b[0m \u001b[1;33m\u001b[0m\u001b[0m\n\u001b[0;32m      5\u001b[0m \u001b[0mdecoder_dense\u001b[0m \u001b[1;33m=\u001b[0m \u001b[0mDense\u001b[0m\u001b[1;33m(\u001b[0m\u001b[0mlabel\u001b[0m\u001b[1;33m.\u001b[0m\u001b[0mshape\u001b[0m\u001b[1;33m[\u001b[0m\u001b[1;36m1\u001b[0m\u001b[1;33m]\u001b[0m\u001b[1;33m,\u001b[0m \u001b[0mactivation\u001b[0m\u001b[1;33m=\u001b[0m\u001b[1;34m'softmax'\u001b[0m\u001b[1;33m)\u001b[0m\u001b[1;33m\u001b[0m\u001b[0m\n",
      "\u001b[1;31mNameError\u001b[0m: name 'encoder_state' is not defined"
     ]
    }
   ],
   "source": [
    "# decoder_inputs = Input(shape=(label.shape[1]),)\n",
    "decoder_lstm = LSTM(10, return_sequences=True, return_state=True)\n",
    "decoder_outputs, _, _ = decoder_lstm(encoder_state)\n",
    "\n",
    "decoder_dense = Dense(label.shape[1], activation='softmax')\n",
    "decoder_outputs = decoder_dense(decoder_outputs)"
   ]
  },
  {
   "cell_type": "code",
   "execution_count": 80,
   "metadata": {},
   "outputs": [],
   "source": [
    "model = Model([encoder_inputs, decoder_inputs], decoder_outputs)"
   ]
  },
  {
   "cell_type": "code",
   "execution_count": null,
   "metadata": {},
   "outputs": [],
   "source": [
    "model.compile(optimizer='adams',\n",
    "             loss='categorical_crossentropy')\n",
    "model.fit([])"
   ]
  }
 ],
 "metadata": {
  "kernelspec": {
   "display_name": "Python 3",
   "language": "python",
   "name": "python3"
  },
  "language_info": {
   "codemirror_mode": {
    "name": "ipython",
    "version": 3
   },
   "file_extension": ".py",
   "mimetype": "text/x-python",
   "name": "python",
   "nbconvert_exporter": "python",
   "pygments_lexer": "ipython3",
   "version": "3.6.6"
  }
 },
 "nbformat": 4,
 "nbformat_minor": 2
}
