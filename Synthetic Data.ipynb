{
 "cells": [
  {
   "cell_type": "code",
   "execution_count": 1,
   "metadata": {},
   "outputs": [],
   "source": [
    "import numpy as np\n",
    "# np.random.seed(42)"
   ]
  },
  {
   "cell_type": "code",
   "execution_count": 2,
   "metadata": {},
   "outputs": [
    {
     "data": {
      "text/plain": [
       "array([3, 2, 0, 2, 5, 7, 2, 8, 1, 8])"
      ]
     },
     "execution_count": 2,
     "metadata": {},
     "output_type": "execute_result"
    }
   ],
   "source": [
    "np.random.randint(0,9,10)"
   ]
  },
  {
   "cell_type": "code",
   "execution_count": 3,
   "metadata": {},
   "outputs": [],
   "source": [
    "data = np.zeros([10000, 10])"
   ]
  },
  {
   "cell_type": "code",
   "execution_count": 4,
   "metadata": {},
   "outputs": [],
   "source": [
    "for i in range(data.shape[0]):\n",
    "    data[i,:] = np.random.randint(0,10,10)"
   ]
  },
  {
   "cell_type": "code",
   "execution_count": 5,
   "metadata": {},
   "outputs": [
    {
     "data": {
      "text/plain": [
       "array([[2., 9., 7., 5., 0., 7., 0., 5., 4., 0.],\n",
       "       [0., 3., 0., 5., 4., 9., 9., 1., 7., 2.],\n",
       "       [0., 7., 6., 3., 1., 9., 4., 4., 7., 3.],\n",
       "       [5., 9., 5., 6., 8., 3., 7., 6., 1., 3.],\n",
       "       [4., 6., 1., 5., 9., 2., 2., 2., 0., 2.],\n",
       "       [8., 6., 0., 3., 6., 7., 7., 3., 8., 2.],\n",
       "       [0., 2., 9., 4., 1., 6., 8., 6., 0., 5.],\n",
       "       [5., 9., 1., 4., 5., 1., 5., 3., 4., 1.],\n",
       "       [7., 4., 8., 6., 4., 3., 6., 6., 0., 1.],\n",
       "       [6., 5., 7., 4., 0., 4., 0., 9., 7., 4.],\n",
       "       [2., 6., 0., 1., 5., 1., 6., 6., 0., 5.],\n",
       "       [5., 5., 4., 8., 6., 1., 1., 6., 9., 2.],\n",
       "       [1., 4., 6., 5., 8., 7., 4., 6., 2., 6.],\n",
       "       [8., 4., 7., 9., 7., 1., 6., 1., 2., 1.],\n",
       "       [5., 2., 2., 7., 7., 3., 9., 1., 7., 1.],\n",
       "       [9., 0., 1., 9., 1., 2., 2., 2., 2., 5.],\n",
       "       [9., 5., 2., 7., 0., 0., 8., 4., 6., 9.],\n",
       "       [1., 2., 7., 1., 4., 1., 4., 6., 6., 1.],\n",
       "       [7., 2., 3., 5., 3., 9., 9., 7., 2., 2.],\n",
       "       [7., 3., 8., 7., 5., 3., 3., 9., 7., 0.],\n",
       "       [8., 9., 3., 2., 9., 8., 3., 5., 7., 4.],\n",
       "       [5., 8., 2., 5., 8., 1., 7., 1., 9., 8.],\n",
       "       [9., 7., 1., 5., 9., 1., 4., 1., 2., 4.],\n",
       "       [2., 3., 7., 0., 0., 1., 3., 7., 2., 0.],\n",
       "       [0., 3., 1., 5., 3., 6., 5., 6., 5., 3.],\n",
       "       [8., 7., 0., 0., 6., 4., 1., 6., 8., 2.],\n",
       "       [6., 3., 0., 0., 6., 8., 0., 6., 3., 0.],\n",
       "       [9., 7., 8., 6., 7., 3., 8., 2., 8., 8.],\n",
       "       [2., 9., 3., 3., 4., 9., 9., 2., 8., 7.],\n",
       "       [0., 3., 3., 5., 9., 9., 8., 4., 0., 9.],\n",
       "       [1., 7., 4., 0., 2., 0., 1., 4., 8., 1.],\n",
       "       [0., 7., 6., 0., 3., 6., 9., 7., 0., 4.],\n",
       "       [8., 0., 3., 2., 0., 7., 9., 9., 7., 2.],\n",
       "       [2., 8., 3., 1., 7., 1., 2., 5., 5., 5.],\n",
       "       [7., 1., 6., 2., 6., 7., 3., 8., 6., 1.],\n",
       "       [9., 3., 4., 0., 6., 0., 3., 2., 6., 9.],\n",
       "       [2., 5., 0., 3., 1., 7., 5., 2., 0., 8.],\n",
       "       [3., 2., 8., 3., 4., 0., 0., 6., 0., 7.],\n",
       "       [9., 3., 2., 8., 0., 2., 9., 4., 4., 8.],\n",
       "       [2., 4., 7., 4., 6., 2., 5., 0., 7., 1.],\n",
       "       [3., 6., 1., 8., 4., 8., 3., 5., 6., 8.],\n",
       "       [5., 0., 3., 3., 7., 2., 8., 8., 3., 4.],\n",
       "       [5., 2., 7., 2., 2., 4., 7., 8., 1., 3.],\n",
       "       [9., 4., 8., 2., 7., 1., 2., 7., 1., 3.],\n",
       "       [8., 4., 0., 9., 2., 4., 5., 6., 1., 3.],\n",
       "       [9., 9., 6., 9., 0., 9., 3., 1., 5., 3.],\n",
       "       [1., 5., 9., 6., 1., 8., 0., 7., 3., 3.],\n",
       "       [4., 9., 1., 1., 7., 1., 9., 0., 2., 9.],\n",
       "       [8., 4., 3., 2., 8., 3., 2., 3., 6., 5.],\n",
       "       [9., 9., 1., 4., 9., 1., 1., 3., 4., 2.]])"
      ]
     },
     "execution_count": 5,
     "metadata": {},
     "output_type": "execute_result"
    }
   ],
   "source": [
    "data[:50]"
   ]
  },
  {
   "cell_type": "code",
   "execution_count": 6,
   "metadata": {},
   "outputs": [
    {
     "data": {
      "text/plain": [
       "(10000, 10)"
      ]
     },
     "execution_count": 6,
     "metadata": {},
     "output_type": "execute_result"
    }
   ],
   "source": [
    "data.shape"
   ]
  },
  {
   "cell_type": "code",
   "execution_count": 7,
   "metadata": {},
   "outputs": [],
   "source": [
    "label = np.zeros([data.shape[0], 4])"
   ]
  },
  {
   "cell_type": "code",
   "execution_count": 8,
   "metadata": {},
   "outputs": [
    {
     "data": {
      "text/plain": [
       "(10000, 4)"
      ]
     },
     "execution_count": 8,
     "metadata": {},
     "output_type": "execute_result"
    }
   ],
   "source": [
    "label.shape"
   ]
  },
  {
   "cell_type": "code",
   "execution_count": 9,
   "metadata": {},
   "outputs": [],
   "source": [
    "for i in range(len(label)):\n",
    "    pointer = np.random.randint(0,9)\n",
    "    \n",
    "    if pointer > data.shape[1]-5:\n",
    "        point = data[i, pointer:]\n",
    "    else:\n",
    "        label[i,:] = data[i, pointer:pointer+4]"
   ]
  },
  {
   "cell_type": "code",
   "execution_count": null,
   "metadata": {},
   "outputs": [],
   "source": []
  },
  {
   "cell_type": "code",
   "execution_count": 10,
   "metadata": {},
   "outputs": [
    {
     "data": {
      "text/plain": [
       "array([[2., 9., 7., 5., 0., 7., 0., 5., 4., 0.],\n",
       "       [0., 3., 0., 5., 4., 9., 9., 1., 7., 2.],\n",
       "       [0., 7., 6., 3., 1., 9., 4., 4., 7., 3.],\n",
       "       [5., 9., 5., 6., 8., 3., 7., 6., 1., 3.],\n",
       "       [4., 6., 1., 5., 9., 2., 2., 2., 0., 2.],\n",
       "       [8., 6., 0., 3., 6., 7., 7., 3., 8., 2.],\n",
       "       [0., 2., 9., 4., 1., 6., 8., 6., 0., 5.],\n",
       "       [5., 9., 1., 4., 5., 1., 5., 3., 4., 1.],\n",
       "       [7., 4., 8., 6., 4., 3., 6., 6., 0., 1.],\n",
       "       [6., 5., 7., 4., 0., 4., 0., 9., 7., 4.]])"
      ]
     },
     "execution_count": 10,
     "metadata": {},
     "output_type": "execute_result"
    }
   ],
   "source": [
    "data[:10]"
   ]
  },
  {
   "cell_type": "code",
   "execution_count": 11,
   "metadata": {},
   "outputs": [
    {
     "data": {
      "text/plain": [
       "array([[0., 0., 0., 0.],\n",
       "       [0., 0., 0., 0.],\n",
       "       [0., 7., 6., 3.],\n",
       "       ...,\n",
       "       [0., 0., 0., 0.],\n",
       "       [7., 1., 0., 9.],\n",
       "       [8., 4., 8., 2.]])"
      ]
     },
     "execution_count": 11,
     "metadata": {},
     "output_type": "execute_result"
    }
   ],
   "source": [
    "label"
   ]
  },
  {
   "cell_type": "code",
   "execution_count": 12,
   "metadata": {},
   "outputs": [
    {
     "name": "stderr",
     "output_type": "stream",
     "text": [
      "Using TensorFlow backend.\n"
     ]
    }
   ],
   "source": [
    "from keras.models import Model\n",
    "from keras.layers import Input, LSTM, Dense"
   ]
  },
  {
   "cell_type": "code",
   "execution_count": 13,
   "metadata": {},
   "outputs": [
    {
     "ename": "NameError",
     "evalue": "name 'state_h' is not defined",
     "output_type": "error",
     "traceback": [
      "\u001b[1;31m---------------------------------------------------------------------------\u001b[0m",
      "\u001b[1;31mNameError\u001b[0m                                 Traceback (most recent call last)",
      "\u001b[1;32m<ipython-input-13-d9a6946c33b9>\u001b[0m in \u001b[0;36m<module>\u001b[1;34m()\u001b[0m\n\u001b[0;32m      4\u001b[0m \u001b[1;33m\u001b[0m\u001b[0m\n\u001b[0;32m      5\u001b[0m \u001b[1;33m\u001b[0m\u001b[0m\n\u001b[1;32m----> 6\u001b[1;33m \u001b[0mencoder_states\u001b[0m \u001b[1;33m=\u001b[0m \u001b[1;33m[\u001b[0m\u001b[0mstate_h\u001b[0m\u001b[1;33m,\u001b[0m \u001b[0mstate_c\u001b[0m\u001b[1;33m]\u001b[0m\u001b[1;33m\u001b[0m\u001b[0m\n\u001b[0m",
      "\u001b[1;31mNameError\u001b[0m: name 'state_h' is not defined"
     ]
    }
   ],
   "source": [
    "encoder_inputs = Input(shape=(None, data.shape[1]))\n",
    "encoder = LSTM(10)\n",
    "encoder_outputs= encoder(encoder_inputs)\n",
    "\n",
    "\n",
    "encoder_states = [state_h, state_c]"
   ]
  },
  {
   "cell_type": "code",
   "execution_count": null,
   "metadata": {},
   "outputs": [],
   "source": [
    "# decoder_inputs = Input(shape=(label.shape[1]),)\n",
    "decoder_lstm = LSTM(10, return_sequences=True, return_state=True)\n",
    "decoder_outputs, _, _ = decoder_lstm(encoder_state)\n",
    "\n",
    "decoder_dense = Dense(label.shape[1], activation='softmax')\n",
    "decoder_outputs = decoder_dense(decoder_outputs)"
   ]
  },
  {
   "cell_type": "code",
   "execution_count": null,
   "metadata": {},
   "outputs": [],
   "source": [
    "model = Model([encoder_inputs, decoder_inputs], decoder_outputs)"
   ]
  },
  {
   "cell_type": "code",
   "execution_count": null,
   "metadata": {},
   "outputs": [],
   "source": [
    "model.compile(optimizer='adams',\n",
    "             loss='categorical_crossentropy')\n",
    "model.fit([])"
   ]
  }
 ],
 "metadata": {
  "kernelspec": {
   "display_name": "Python 3",
   "language": "python",
   "name": "python3"
  },
  "language_info": {
   "codemirror_mode": {
    "name": "ipython",
    "version": 3
   },
   "file_extension": ".py",
   "mimetype": "text/x-python",
   "name": "python",
   "nbconvert_exporter": "python",
   "pygments_lexer": "ipython3",
   "version": "3.6.6"
  }
 },
 "nbformat": 4,
 "nbformat_minor": 2
}
