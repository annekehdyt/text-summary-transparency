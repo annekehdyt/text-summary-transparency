{
 "cells": [
  {
   "cell_type": "code",
   "execution_count": 1,
   "metadata": {},
   "outputs": [],
   "source": [
    "import numpy as np\n",
    "# np.random.seed(42)"
   ]
  },
  {
   "cell_type": "code",
   "execution_count": 2,
   "metadata": {},
   "outputs": [
    {
     "data": {
      "text/plain": [
       "array([3, 5, 5, 4, 6, 7, 5, 8, 2, 5])"
      ]
     },
     "execution_count": 2,
     "metadata": {},
     "output_type": "execute_result"
    }
   ],
   "source": [
    "np.random.randint(0,9,10)"
   ]
  },
  {
   "cell_type": "code",
   "execution_count": 3,
   "metadata": {},
   "outputs": [],
   "source": [
    "data = np.zeros([10000, 10])"
   ]
  },
  {
   "cell_type": "code",
   "execution_count": 4,
   "metadata": {},
   "outputs": [],
   "source": [
    "for i in range(data.shape[0]):\n",
    "    data[i,:] = np.random.randint(0,10,10)"
   ]
  },
  {
   "cell_type": "code",
   "execution_count": 5,
   "metadata": {},
   "outputs": [
    {
     "data": {
      "text/plain": [
       "array([[2., 4., 5., 6., 8., 7., 8., 5., 3., 5.],\n",
       "       [3., 7., 7., 6., 6., 0., 2., 7., 5., 2.],\n",
       "       [9., 9., 9., 5., 3., 8., 1., 1., 5., 7.],\n",
       "       [1., 9., 1., 4., 0., 7., 1., 8., 2., 1.],\n",
       "       [5., 4., 7., 7., 0., 3., 7., 6., 8., 5.],\n",
       "       [9., 7., 3., 3., 5., 6., 3., 8., 3., 6.],\n",
       "       [7., 9., 4., 8., 1., 6., 1., 3., 1., 6.],\n",
       "       [3., 3., 2., 7., 5., 7., 5., 6., 3., 9.],\n",
       "       [9., 3., 8., 7., 7., 0., 2., 9., 9., 1.],\n",
       "       [2., 5., 2., 0., 2., 5., 0., 2., 1., 8.],\n",
       "       [7., 9., 8., 4., 5., 8., 3., 1., 2., 4.],\n",
       "       [2., 1., 4., 2., 7., 7., 2., 6., 6., 0.],\n",
       "       [1., 1., 5., 9., 4., 2., 8., 3., 8., 8.],\n",
       "       [0., 1., 1., 5., 6., 0., 0., 6., 8., 1.],\n",
       "       [5., 9., 4., 6., 0., 0., 9., 7., 5., 3.],\n",
       "       [5., 7., 0., 6., 8., 8., 0., 7., 2., 7.],\n",
       "       [1., 2., 6., 0., 0., 7., 1., 4., 3., 0.],\n",
       "       [4., 4., 7., 5., 7., 4., 4., 4., 4., 4.],\n",
       "       [4., 8., 8., 3., 1., 7., 0., 3., 0., 7.],\n",
       "       [4., 8., 1., 1., 3., 4., 9., 2., 6., 8.],\n",
       "       [9., 6., 5., 0., 0., 4., 8., 4., 1., 6.],\n",
       "       [9., 9., 5., 9., 4., 8., 9., 3., 6., 5.],\n",
       "       [2., 7., 7., 5., 1., 3., 2., 7., 8., 7.],\n",
       "       [8., 6., 9., 9., 9., 9., 7., 4., 0., 6.],\n",
       "       [5., 6., 2., 5., 7., 1., 6., 6., 4., 0.],\n",
       "       [8., 8., 4., 5., 7., 2., 3., 0., 2., 9.],\n",
       "       [5., 7., 5., 0., 5., 3., 8., 4., 5., 7.],\n",
       "       [0., 8., 0., 8., 3., 1., 3., 7., 6., 1.],\n",
       "       [6., 7., 3., 2., 5., 4., 5., 3., 5., 9.],\n",
       "       [4., 1., 1., 3., 4., 6., 8., 0., 2., 9.],\n",
       "       [5., 6., 8., 8., 6., 9., 4., 5., 6., 0.],\n",
       "       [8., 5., 1., 5., 9., 3., 5., 2., 6., 9.],\n",
       "       [4., 6., 4., 5., 9., 0., 5., 9., 3., 5.],\n",
       "       [7., 1., 1., 7., 6., 2., 3., 0., 9., 8.],\n",
       "       [5., 7., 7., 3., 9., 2., 0., 8., 4., 8.],\n",
       "       [9., 7., 4., 7., 1., 5., 6., 2., 6., 4.],\n",
       "       [8., 1., 0., 6., 5., 1., 0., 5., 0., 4.],\n",
       "       [4., 2., 7., 9., 3., 5., 2., 3., 9., 9.],\n",
       "       [4., 7., 5., 3., 2., 4., 8., 2., 6., 3.],\n",
       "       [6., 8., 9., 1., 2., 4., 4., 5., 0., 9.],\n",
       "       [3., 0., 4., 1., 9., 7., 7., 9., 2., 2.],\n",
       "       [5., 8., 1., 4., 3., 6., 7., 3., 4., 9.],\n",
       "       [6., 4., 2., 4., 3., 5., 8., 1., 7., 6.],\n",
       "       [6., 2., 8., 0., 7., 8., 9., 1., 2., 2.],\n",
       "       [7., 1., 8., 0., 0., 2., 2., 6., 7., 4.],\n",
       "       [6., 5., 9., 9., 0., 0., 8., 7., 8., 5.],\n",
       "       [7., 3., 1., 7., 4., 5., 5., 0., 9., 2.],\n",
       "       [4., 0., 8., 3., 7., 9., 1., 9., 8., 5.],\n",
       "       [7., 4., 5., 0., 7., 4., 9., 7., 1., 8.],\n",
       "       [8., 2., 4., 2., 1., 6., 4., 9., 1., 6.]])"
      ]
     },
     "execution_count": 5,
     "metadata": {},
     "output_type": "execute_result"
    }
   ],
   "source": [
    "data[:50]"
   ]
  },
  {
   "cell_type": "code",
   "execution_count": 6,
   "metadata": {},
   "outputs": [
    {
     "data": {
      "text/plain": [
       "(10000, 10)"
      ]
     },
     "execution_count": 6,
     "metadata": {},
     "output_type": "execute_result"
    }
   ],
   "source": [
    "data.shape"
   ]
  },
  {
   "cell_type": "code",
   "execution_count": 7,
   "metadata": {},
   "outputs": [],
   "source": [
    "label = np.zeros([data.shape[0], 4])"
   ]
  },
  {
   "cell_type": "code",
   "execution_count": 8,
   "metadata": {},
   "outputs": [
    {
     "data": {
      "text/plain": [
       "(10000, 4)"
      ]
     },
     "execution_count": 8,
     "metadata": {},
     "output_type": "execute_result"
    }
   ],
   "source": [
    "label.shape"
   ]
  },
  {
   "cell_type": "code",
   "execution_count": 9,
   "metadata": {},
   "outputs": [],
   "source": [
    "for i in range(len(label)):\n",
    "    pointer = np.random.randint(0,9)\n",
    "    \n",
    "    if pointer > data.shape[1]-5:\n",
    "        point = data[i, pointer:]\n",
    "    else:\n",
    "        label[i,:] = data[i, pointer:pointer+4]"
   ]
  },
  {
   "cell_type": "code",
   "execution_count": null,
   "metadata": {},
   "outputs": [],
   "source": []
  },
  {
   "cell_type": "code",
   "execution_count": 10,
   "metadata": {},
   "outputs": [
    {
     "data": {
      "text/plain": [
       "array([[2., 4., 5., 6., 8., 7., 8., 5., 3., 5.],\n",
       "       [3., 7., 7., 6., 6., 0., 2., 7., 5., 2.],\n",
       "       [9., 9., 9., 5., 3., 8., 1., 1., 5., 7.],\n",
       "       [1., 9., 1., 4., 0., 7., 1., 8., 2., 1.],\n",
       "       [5., 4., 7., 7., 0., 3., 7., 6., 8., 5.],\n",
       "       [9., 7., 3., 3., 5., 6., 3., 8., 3., 6.],\n",
       "       [7., 9., 4., 8., 1., 6., 1., 3., 1., 6.],\n",
       "       [3., 3., 2., 7., 5., 7., 5., 6., 3., 9.],\n",
       "       [9., 3., 8., 7., 7., 0., 2., 9., 9., 1.],\n",
       "       [2., 5., 2., 0., 2., 5., 0., 2., 1., 8.]])"
      ]
     },
     "execution_count": 10,
     "metadata": {},
     "output_type": "execute_result"
    }
   ],
   "source": [
    "data[:10]"
   ]
  },
  {
   "cell_type": "code",
   "execution_count": 11,
   "metadata": {},
   "outputs": [
    {
     "data": {
      "text/plain": [
       "array([[5., 6., 8., 7.],\n",
       "       [0., 0., 0., 0.],\n",
       "       [9., 9., 9., 5.],\n",
       "       ...,\n",
       "       [7., 7., 6., 2.],\n",
       "       [8., 3., 9., 4.],\n",
       "       [3., 7., 2., 5.]])"
      ]
     },
     "execution_count": 11,
     "metadata": {},
     "output_type": "execute_result"
    }
   ],
   "source": [
    "label"
   ]
  },
  {
   "cell_type": "code",
   "execution_count": 12,
   "metadata": {},
   "outputs": [
    {
     "name": "stderr",
     "output_type": "stream",
     "text": [
      "Using TensorFlow backend.\n"
     ]
    }
   ],
   "source": [
    "from keras.models import Model\n",
    "from keras.layers import Input, LSTM, Dense"
   ]
  },
  {
   "cell_type": "code",
   "execution_count": 13,
   "metadata": {},
   "outputs": [
    {
     "ename": "NameError",
     "evalue": "name 'state_h' is not defined",
     "output_type": "error",
     "traceback": [
      "\u001b[1;31m---------------------------------------------------------------------------\u001b[0m",
      "\u001b[1;31mNameError\u001b[0m                                 Traceback (most recent call last)",
      "\u001b[1;32m<ipython-input-13-d9a6946c33b9>\u001b[0m in \u001b[0;36m<module>\u001b[1;34m()\u001b[0m\n\u001b[0;32m      4\u001b[0m \u001b[1;33m\u001b[0m\u001b[0m\n\u001b[0;32m      5\u001b[0m \u001b[1;33m\u001b[0m\u001b[0m\n\u001b[1;32m----> 6\u001b[1;33m \u001b[0mencoder_states\u001b[0m \u001b[1;33m=\u001b[0m \u001b[1;33m[\u001b[0m\u001b[0mstate_h\u001b[0m\u001b[1;33m,\u001b[0m \u001b[0mstate_c\u001b[0m\u001b[1;33m]\u001b[0m\u001b[1;33m\u001b[0m\u001b[0m\n\u001b[0m",
      "\u001b[1;31mNameError\u001b[0m: name 'state_h' is not defined"
     ]
    }
   ],
   "source": [
    "encoder_inputs = Input(shape=(None, data.shape[1]))\n",
    "encoder = LSTM(10)\n",
    "encoder_outputs= encoder(encoder_inputs)\n",
    "\n",
    "\n",
    "encoder_states = [state_h, state_c]"
   ]
  },
  {
   "cell_type": "code",
   "execution_count": null,
   "metadata": {},
   "outputs": [],
   "source": [
    "# decoder_inputs = Input(shape=(label.shape[1]),)\n",
    "decoder_lstm = LSTM(10, return_sequences=True, return_state=True)\n",
    "decoder_outputs, _, _ = decoder_lstm(encoder_state)\n",
    "\n",
    "decoder_dense = Dense(label.shape[1], activation='softmax')\n",
    "decoder_outputs = decoder_dense(decoder_outputs)"
   ]
  },
  {
   "cell_type": "code",
   "execution_count": null,
   "metadata": {},
   "outputs": [],
   "source": [
    "model = Model([encoder_inputs, decoder_inputs], decoder_outputs)"
   ]
  },
  {
   "cell_type": "code",
   "execution_count": null,
   "metadata": {},
   "outputs": [],
   "source": [
    "model.compile(optimizer='adams',\n",
    "             loss='categorical_crossentropy')\n",
    "model.fit([])"
   ]
  }
 ],
 "metadata": {
  "kernelspec": {
   "display_name": "Python 3",
   "language": "python",
   "name": "python3"
  },
  "language_info": {
   "codemirror_mode": {
    "name": "ipython",
    "version": 3
   },
   "file_extension": ".py",
   "mimetype": "text/x-python",
   "name": "python",
   "nbconvert_exporter": "python",
   "pygments_lexer": "ipython3",
   "version": "3.6.6"
  }
 },
 "nbformat": 4,
 "nbformat_minor": 2
}
